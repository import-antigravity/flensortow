{
 "cells": [
  {
   "cell_type": "code",
   "execution_count": 1,
   "outputs": [],
   "source": [
    "class Tensor:\n",
    "    def __init__(self, value, grad_fn=None, grad=0, requires_grad=False, parents=None, children=None):\n",
    "        self.value = value\n",
    "        self.grad_fn = grad_fn\n",
    "        self.grad = grad\n",
    "        self.requires_grad = requires_grad\n",
    "        self.parents = parents or []\n",
    "        self.children = children or []\n",
    "\n",
    "    def backward(self, *output_grads):\n",
    "        self.grad = self.grad_fn(*output_grads)"
   ],
   "metadata": {
    "collapsed": false,
    "pycharm": {
     "name": "#%%\n"
    }
   }
  },
  {
   "cell_type": "code",
   "execution_count": 2,
   "outputs": [],
   "source": [
    "def backward_from(start_node):\n",
    "    node_set = {start_node}\n",
    "    done = set()\n",
    "    while node_set:\n",
    "        node = node_set.pop()\n",
    "        if node.grad_fn is not None:\n",
    "            output_grads = tuple(c.grad for c in node.children)\n",
    "            node.grad = node.grad_fn(*output_grads)\n",
    "        else:\n",
    "            node.grad = 1.\n",
    "\n",
    "        done.add(node)\n",
    "\n",
    "        for parent in node.parents:\n",
    "            if parent.requires_grad and all(c in done for c in parent.children):\n",
    "                node_set.add(parent)"
   ],
   "metadata": {
    "collapsed": false,
    "pycharm": {
     "name": "#%%\n"
    }
   }
  },
  {
   "cell_type": "code",
   "execution_count": 3,
   "outputs": [],
   "source": [
    "m = Tensor(2, requires_grad=True)\n",
    "x = Tensor(1)\n",
    "b = Tensor(-1, requires_grad=True)\n",
    "y = Tensor(4)"
   ],
   "metadata": {
    "collapsed": false,
    "pycharm": {
     "name": "#%%\n"
    }
   }
  },
  {
   "cell_type": "code",
   "execution_count": 4,
   "outputs": [],
   "source": [
    "v_1 = Tensor(m.value * x.value, requires_grad=True)\n",
    "m.children.append(v_1)\n",
    "x.children.append(v_1)\n",
    "v_1.parents.append(m)\n",
    "v_1.parents.append(x)\n",
    "m.grad_fn = lambda ddv: ddv * x.value"
   ],
   "metadata": {
    "collapsed": false,
    "pycharm": {
     "name": "#%%\n"
    }
   }
  },
  {
   "cell_type": "code",
   "execution_count": 5,
   "outputs": [],
   "source": [
    "y_hat = Tensor(v_1.value + b.value, requires_grad=True)\n",
    "v_1.children.append(y_hat)\n",
    "b.children.append(y_hat)\n",
    "y_hat.parents.append(v_1)\n",
    "y_hat.parents.append(b)\n",
    "v_1.grad_fn = lambda ddy: ddy * 1\n",
    "b.grad_fn = lambda ddy: ddy * 1"
   ],
   "metadata": {
    "collapsed": false,
    "pycharm": {
     "name": "#%%\n"
    }
   }
  },
  {
   "cell_type": "code",
   "execution_count": 6,
   "outputs": [],
   "source": [
    "v_2 = Tensor(y_hat.value - y.value, requires_grad=True)\n",
    "y_hat.children.append(v_2)\n",
    "y.children.append(v_2)\n",
    "v_2.parents.append(y_hat)\n",
    "v_2.parents.append(y)\n",
    "y_hat.grad_fn = lambda ddv: ddv"
   ],
   "metadata": {
    "collapsed": false,
    "pycharm": {
     "name": "#%%\n"
    }
   }
  },
  {
   "cell_type": "code",
   "execution_count": 7,
   "outputs": [],
   "source": [
    "loss = Tensor(v_2.value ** 2, requires_grad=True)\n",
    "v_2.children.append(loss)\n",
    "loss.parents.append(v_2)\n",
    "v_2.grad_fn = lambda ddl: ddl * 2 * v_2.value"
   ],
   "metadata": {
    "collapsed": false,
    "pycharm": {
     "name": "#%%\n"
    }
   }
  },
  {
   "cell_type": "code",
   "execution_count": 8,
   "outputs": [
    {
     "data": {
      "text/plain": "9"
     },
     "execution_count": 8,
     "metadata": {},
     "output_type": "execute_result"
    }
   ],
   "source": [
    "loss.value"
   ],
   "metadata": {
    "collapsed": false,
    "pycharm": {
     "name": "#%%\n"
    }
   }
  },
  {
   "cell_type": "code",
   "execution_count": 38,
   "outputs": [],
   "source": [
    "v_2.grad = v_2.grad_fn(1)\n",
    "y_hat.grad = y_hat.grad_fn(v_2.grad)\n",
    "b.grad = b.grad_fn(y_hat.grad)\n",
    "v_1.grad = v_1.grad_fn(y_hat.grad)\n",
    "m.grad = m.grad_fn(v_1.grad)"
   ],
   "metadata": {
    "collapsed": false,
    "pycharm": {
     "name": "#%%\n"
    }
   }
  },
  {
   "cell_type": "code",
   "execution_count": 39,
   "outputs": [
    {
     "data": {
      "text/plain": "-6"
     },
     "execution_count": 39,
     "metadata": {},
     "output_type": "execute_result"
    }
   ],
   "source": [
    "m.grad"
   ],
   "metadata": {
    "collapsed": false,
    "pycharm": {
     "name": "#%%\n"
    }
   }
  },
  {
   "cell_type": "code",
   "execution_count": 9,
   "outputs": [],
   "source": [
    "backward_from(loss)"
   ],
   "metadata": {
    "collapsed": false,
    "pycharm": {
     "name": "#%%\n"
    }
   }
  },
  {
   "cell_type": "code",
   "execution_count": 10,
   "outputs": [
    {
     "data": {
      "text/plain": "-6.0"
     },
     "execution_count": 10,
     "metadata": {},
     "output_type": "execute_result"
    }
   ],
   "source": [
    "m.grad"
   ],
   "metadata": {
    "collapsed": false,
    "pycharm": {
     "name": "#%%\n"
    }
   }
  },
  {
   "cell_type": "code",
   "execution_count": null,
   "outputs": [],
   "source": [],
   "metadata": {
    "collapsed": false,
    "pycharm": {
     "name": "#%%\n"
    }
   }
  }
 ],
 "metadata": {
  "kernelspec": {
   "display_name": "Python 3",
   "language": "python",
   "name": "python3"
  },
  "language_info": {
   "codemirror_mode": {
    "name": "ipython",
    "version": 2
   },
   "file_extension": ".py",
   "mimetype": "text/x-python",
   "name": "python",
   "nbconvert_exporter": "python",
   "pygments_lexer": "ipython2",
   "version": "2.7.6"
  }
 },
 "nbformat": 4,
 "nbformat_minor": 0
}